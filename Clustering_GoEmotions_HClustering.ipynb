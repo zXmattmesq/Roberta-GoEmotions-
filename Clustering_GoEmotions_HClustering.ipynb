{
  "cells": [
    {
      "cell_type": "code",
      "execution_count": null,
      "metadata": {
        "id": "2drFEkQ0R2E_"
      },
      "outputs": [],
      "source": [
        "# !nvidia-smi"
      ]
    },
    {
      "cell_type": "code",
      "execution_count": null,
      "metadata": {
        "colab": {
          "base_uri": "https://localhost:8080/"
        },
        "id": "Rs7TrccNm5KM",
        "outputId": "7d1ed058-529d-4b99-82de-3fd22e8adc61"
      },
      "outputs": [
        {
          "output_type": "stream",
          "name": "stdout",
          "text": [
            "Requirement already satisfied: nltk in ./colabenv/lib/python3.9/site-packages (3.9.1)\r\n",
            "Requirement already satisfied: click in ./colabenv/lib/python3.9/site-packages (from nltk) (8.1.7)\r\n",
            "Requirement already satisfied: joblib in ./colabenv/lib/python3.9/site-packages (from nltk) (1.4.2)\r\n",
            "Requirement already satisfied: regex>=2021.8.3 in ./colabenv/lib/python3.9/site-packages (from nltk) (2024.5.15)\r\n",
            "Requirement already satisfied: tqdm in ./colabenv/lib/python3.9/site-packages (from nltk) (4.66.4)\n",
            "Requirement already satisfied: transformers in ./colabenv/lib/python3.9/site-packages (4.45.1)\n",
            "Requirement already satisfied: filelock in ./colabenv/lib/python3.9/site-packages (from transformers) (3.15.4)\n",
            "Requirement already satisfied: huggingface-hub<1.0,>=0.23.2 in ./colabenv/lib/python3.9/site-packages (from transformers) (0.23.4)\n",
            "Requirement already satisfied: numpy>=1.17 in ./colabenv/lib/python3.9/site-packages (from transformers) (1.26.4)\n",
            "Requirement already satisfied: packaging>=20.0 in ./colabenv/lib/python3.9/site-packages (from transformers) (24.1)\n",
            "Requirement already satisfied: pyyaml>=5.1 in ./colabenv/lib/python3.9/site-packages (from transformers) (6.0.1)\n",
            "Requirement already satisfied: regex!=2019.12.17 in ./colabenv/lib/python3.9/site-packages (from transformers) (2024.5.15)\n",
            "Requirement already satisfied: requests in ./colabenv/lib/python3.9/site-packages (from transformers) (2.32.3)\n",
            "Requirement already satisfied: safetensors>=0.4.1 in ./colabenv/lib/python3.9/site-packages (from transformers) (0.4.3)\n",
            "Requirement already satisfied: tokenizers<0.21,>=0.20 in ./colabenv/lib/python3.9/site-packages (from transformers) (0.20.0)\n",
            "Requirement already satisfied: tqdm>=4.27 in ./colabenv/lib/python3.9/site-packages (from transformers) (4.66.4)\n",
            "Requirement already satisfied: fsspec>=2023.5.0 in ./colabenv/lib/python3.9/site-packages (from huggingface-hub<1.0,>=0.23.2->transformers) (2024.5.0)\n",
            "Requirement already satisfied: typing-extensions>=3.7.4.3 in ./colabenv/lib/python3.9/site-packages (from huggingface-hub<1.0,>=0.23.2->transformers) (4.12.2)\n",
            "Requirement already satisfied: charset-normalizer<4,>=2 in ./colabenv/lib/python3.9/site-packages (from requests->transformers) (3.3.2)\n",
            "Requirement already satisfied: idna<4,>=2.5 in ./colabenv/lib/python3.9/site-packages (from requests->transformers) (3.7)\n",
            "Requirement already satisfied: urllib3<3,>=1.21.1 in ./colabenv/lib/python3.9/site-packages (from requests->transformers) (2.2.2)\n",
            "Requirement already satisfied: certifi>=2017.4.17 in ./colabenv/lib/python3.9/site-packages (from requests->transformers) (2024.6.2)\n",
            "Requirement already satisfied: sentence-transformers in ./colabenv/lib/python3.9/site-packages (3.1.1)\n",
            "Requirement already satisfied: transformers<5.0.0,>=4.38.0 in ./colabenv/lib/python3.9/site-packages (from sentence-transformers) (4.45.1)\n",
            "Requirement already satisfied: tqdm in ./colabenv/lib/python3.9/site-packages (from sentence-transformers) (4.66.4)\n",
            "Requirement already satisfied: torch>=1.11.0 in ./colabenv/lib/python3.9/site-packages (from sentence-transformers) (2.3.1)\n",
            "Requirement already satisfied: scikit-learn in ./colabenv/lib/python3.9/site-packages (from sentence-transformers) (1.5.2)\n",
            "Requirement already satisfied: scipy in ./colabenv/lib/python3.9/site-packages (from sentence-transformers) (1.13.1)\n",
            "Requirement already satisfied: huggingface-hub>=0.19.3 in ./colabenv/lib/python3.9/site-packages (from sentence-transformers) (0.23.4)\n",
            "Requirement already satisfied: Pillow in ./colabenv/lib/python3.9/site-packages (from sentence-transformers) (10.3.0)\n",
            "Requirement already satisfied: filelock in ./colabenv/lib/python3.9/site-packages (from huggingface-hub>=0.19.3->sentence-transformers) (3.15.4)\n",
            "Requirement already satisfied: fsspec>=2023.5.0 in ./colabenv/lib/python3.9/site-packages (from huggingface-hub>=0.19.3->sentence-transformers) (2024.5.0)\n",
            "Requirement already satisfied: packaging>=20.9 in ./colabenv/lib/python3.9/site-packages (from huggingface-hub>=0.19.3->sentence-transformers) (24.1)\n",
            "Requirement already satisfied: pyyaml>=5.1 in ./colabenv/lib/python3.9/site-packages (from huggingface-hub>=0.19.3->sentence-transformers) (6.0.1)\n",
            "Requirement already satisfied: requests in ./colabenv/lib/python3.9/site-packages (from huggingface-hub>=0.19.3->sentence-transformers) (2.32.3)\n",
            "Requirement already satisfied: typing-extensions>=3.7.4.3 in ./colabenv/lib/python3.9/site-packages (from huggingface-hub>=0.19.3->sentence-transformers) (4.12.2)\n",
            "Requirement already satisfied: sympy in ./colabenv/lib/python3.9/site-packages (from torch>=1.11.0->sentence-transformers) (1.12.1)\n",
            "Requirement already satisfied: networkx in ./colabenv/lib/python3.9/site-packages (from torch>=1.11.0->sentence-transformers) (3.2.1)\n",
            "Requirement already satisfied: jinja2 in ./colabenv/lib/python3.9/site-packages (from torch>=1.11.0->sentence-transformers) (3.1.4)\n",
            "Requirement already satisfied: nvidia-cuda-nvrtc-cu12==12.1.105 in ./colabenv/lib/python3.9/site-packages (from torch>=1.11.0->sentence-transformers) (12.1.105)\n",
            "Requirement already satisfied: nvidia-cuda-runtime-cu12==12.1.105 in ./colabenv/lib/python3.9/site-packages (from torch>=1.11.0->sentence-transformers) (12.1.105)\n",
            "Requirement already satisfied: nvidia-cuda-cupti-cu12==12.1.105 in ./colabenv/lib/python3.9/site-packages (from torch>=1.11.0->sentence-transformers) (12.1.105)\n",
            "Requirement already satisfied: nvidia-cudnn-cu12==8.9.2.26 in ./colabenv/lib/python3.9/site-packages (from torch>=1.11.0->sentence-transformers) (8.9.2.26)\n",
            "Requirement already satisfied: nvidia-cublas-cu12==12.1.3.1 in ./colabenv/lib/python3.9/site-packages (from torch>=1.11.0->sentence-transformers) (12.1.3.1)\n",
            "Requirement already satisfied: nvidia-cufft-cu12==11.0.2.54 in ./colabenv/lib/python3.9/site-packages (from torch>=1.11.0->sentence-transformers) (11.0.2.54)\n",
            "Requirement already satisfied: nvidia-curand-cu12==10.3.2.106 in ./colabenv/lib/python3.9/site-packages (from torch>=1.11.0->sentence-transformers) (10.3.2.106)\n",
            "Requirement already satisfied: nvidia-cusolver-cu12==11.4.5.107 in ./colabenv/lib/python3.9/site-packages (from torch>=1.11.0->sentence-transformers) (11.4.5.107)\n",
            "Requirement already satisfied: nvidia-cusparse-cu12==12.1.0.106 in ./colabenv/lib/python3.9/site-packages (from torch>=1.11.0->sentence-transformers) (12.1.0.106)\n",
            "Requirement already satisfied: nvidia-nccl-cu12==2.20.5 in ./colabenv/lib/python3.9/site-packages (from torch>=1.11.0->sentence-transformers) (2.20.5)\n",
            "Requirement already satisfied: nvidia-nvtx-cu12==12.1.105 in ./colabenv/lib/python3.9/site-packages (from torch>=1.11.0->sentence-transformers) (12.1.105)\n",
            "Requirement already satisfied: triton==2.3.1 in ./colabenv/lib/python3.9/site-packages (from torch>=1.11.0->sentence-transformers) (2.3.1)\n",
            "Requirement already satisfied: nvidia-nvjitlink-cu12 in ./colabenv/lib/python3.9/site-packages (from nvidia-cusolver-cu12==11.4.5.107->torch>=1.11.0->sentence-transformers) (12.5.40)\n",
            "Requirement already satisfied: numpy>=1.17 in ./colabenv/lib/python3.9/site-packages (from transformers<5.0.0,>=4.38.0->sentence-transformers) (1.26.4)\n",
            "Requirement already satisfied: regex!=2019.12.17 in ./colabenv/lib/python3.9/site-packages (from transformers<5.0.0,>=4.38.0->sentence-transformers) (2024.5.15)\n",
            "Requirement already satisfied: safetensors>=0.4.1 in ./colabenv/lib/python3.9/site-packages (from transformers<5.0.0,>=4.38.0->sentence-transformers) (0.4.3)\n",
            "Requirement already satisfied: tokenizers<0.21,>=0.20 in ./colabenv/lib/python3.9/site-packages (from transformers<5.0.0,>=4.38.0->sentence-transformers) (0.20.0)\n",
            "Requirement already satisfied: joblib>=1.2.0 in ./colabenv/lib/python3.9/site-packages (from scikit-learn->sentence-transformers) (1.4.2)\n",
            "Requirement already satisfied: threadpoolctl>=3.1.0 in ./colabenv/lib/python3.9/site-packages (from scikit-learn->sentence-transformers) (3.5.0)\n",
            "Requirement already satisfied: MarkupSafe>=2.0 in ./colabenv/lib/python3.9/site-packages (from jinja2->torch>=1.11.0->sentence-transformers) (2.1.5)\n",
            "Requirement already satisfied: charset-normalizer<4,>=2 in ./colabenv/lib/python3.9/site-packages (from requests->huggingface-hub>=0.19.3->sentence-transformers) (3.3.2)\n",
            "Requirement already satisfied: idna<4,>=2.5 in ./colabenv/lib/python3.9/site-packages (from requests->huggingface-hub>=0.19.3->sentence-transformers) (3.7)\n",
            "Requirement already satisfied: urllib3<3,>=1.21.1 in ./colabenv/lib/python3.9/site-packages (from requests->huggingface-hub>=0.19.3->sentence-transformers) (2.2.2)\n",
            "Requirement already satisfied: certifi>=2017.4.17 in ./colabenv/lib/python3.9/site-packages (from requests->huggingface-hub>=0.19.3->sentence-transformers) (2024.6.2)\n",
            "Requirement already satisfied: mpmath<1.4.0,>=1.1.0 in ./colabenv/lib/python3.9/site-packages (from sympy->torch>=1.11.0->sentence-transformers) (1.3.0)\n",
            "Requirement already satisfied: scikit-learn in ./colabenv/lib/python3.9/site-packages (1.5.2)\n",
            "Requirement already satisfied: numpy>=1.19.5 in ./colabenv/lib/python3.9/site-packages (from scikit-learn) (1.26.4)\n",
            "Requirement already satisfied: scipy>=1.6.0 in ./colabenv/lib/python3.9/site-packages (from scikit-learn) (1.13.1)\n",
            "Requirement already satisfied: joblib>=1.2.0 in ./colabenv/lib/python3.9/site-packages (from scikit-learn) (1.4.2)\n",
            "Requirement already satisfied: threadpoolctl>=3.1.0 in ./colabenv/lib/python3.9/site-packages (from scikit-learn) (3.5.0)\n",
            "Requirement already satisfied: pandas in ./colabenv/lib/python3.9/site-packages (2.2.3)\n",
            "Requirement already satisfied: numpy>=1.22.4 in ./colabenv/lib/python3.9/site-packages (from pandas) (1.26.4)\n",
            "Requirement already satisfied: python-dateutil>=2.8.2 in ./colabenv/lib/python3.9/site-packages (from pandas) (2.9.0.post0)\n",
            "Requirement already satisfied: pytz>=2020.1 in ./colabenv/lib/python3.9/site-packages (from pandas) (2024.1)\n",
            "Requirement already satisfied: tzdata>=2022.7 in ./colabenv/lib/python3.9/site-packages (from pandas) (2024.1)\n",
            "Requirement already satisfied: six>=1.5 in ./colabenv/lib/python3.9/site-packages (from python-dateutil>=2.8.2->pandas) (1.16.0)\n",
            "Requirement already satisfied: matplotlib in ./colabenv/lib/python3.9/site-packages (3.9.2)\n",
            "Requirement already satisfied: seaborn in ./colabenv/lib/python3.9/site-packages (0.13.2)\n",
            "Requirement already satisfied: contourpy>=1.0.1 in ./colabenv/lib/python3.9/site-packages (from matplotlib) (1.2.1)\n",
            "Requirement already satisfied: cycler>=0.10 in ./colabenv/lib/python3.9/site-packages (from matplotlib) (0.12.1)\n",
            "Requirement already satisfied: fonttools>=4.22.0 in ./colabenv/lib/python3.9/site-packages (from matplotlib) (4.53.0)\n",
            "Requirement already satisfied: kiwisolver>=1.3.1 in ./colabenv/lib/python3.9/site-packages (from matplotlib) (1.4.5)\n",
            "Requirement already satisfied: numpy>=1.23 in ./colabenv/lib/python3.9/site-packages (from matplotlib) (1.26.4)\n",
            "Requirement already satisfied: packaging>=20.0 in ./colabenv/lib/python3.9/site-packages (from matplotlib) (24.1)\n",
            "Requirement already satisfied: pillow>=8 in ./colabenv/lib/python3.9/site-packages (from matplotlib) (10.3.0)\n",
            "Requirement already satisfied: pyparsing>=2.3.1 in ./colabenv/lib/python3.9/site-packages (from matplotlib) (3.1.2)\n",
            "Requirement already satisfied: python-dateutil>=2.7 in ./colabenv/lib/python3.9/site-packages (from matplotlib) (2.9.0.post0)\n",
            "Requirement already satisfied: importlib-resources>=3.2.0 in ./colabenv/lib/python3.9/site-packages (from matplotlib) (6.4.0)\n",
            "Requirement already satisfied: pandas>=1.2 in ./colabenv/lib/python3.9/site-packages (from seaborn) (2.2.3)\n",
            "Requirement already satisfied: zipp>=3.1.0 in ./colabenv/lib/python3.9/site-packages (from importlib-resources>=3.2.0->matplotlib) (3.19.2)\n",
            "Requirement already satisfied: pytz>=2020.1 in ./colabenv/lib/python3.9/site-packages (from pandas>=1.2->seaborn) (2024.1)\n",
            "Requirement already satisfied: tzdata>=2022.7 in ./colabenv/lib/python3.9/site-packages (from pandas>=1.2->seaborn) (2024.1)\n",
            "Requirement already satisfied: six>=1.5 in ./colabenv/lib/python3.9/site-packages (from python-dateutil>=2.7->matplotlib) (1.16.0)\n",
            "Requirement already satisfied: sentencepiece in ./colabenv/lib/python3.9/site-packages (0.2.0)\n",
            "Requirement already satisfied: transformers in ./colabenv/lib/python3.9/site-packages (4.45.1)\n",
            "Requirement already satisfied: sentencepiece in ./colabenv/lib/python3.9/site-packages (0.2.0)\n",
            "Requirement already satisfied: filelock in ./colabenv/lib/python3.9/site-packages (from transformers) (3.15.4)\n",
            "Requirement already satisfied: huggingface-hub<1.0,>=0.23.2 in ./colabenv/lib/python3.9/site-packages (from transformers) (0.23.4)\n",
            "Requirement already satisfied: numpy>=1.17 in ./colabenv/lib/python3.9/site-packages (from transformers) (1.26.4)\n",
            "Requirement already satisfied: packaging>=20.0 in ./colabenv/lib/python3.9/site-packages (from transformers) (24.1)\n",
            "Requirement already satisfied: pyyaml>=5.1 in ./colabenv/lib/python3.9/site-packages (from transformers) (6.0.1)\n",
            "Requirement already satisfied: regex!=2019.12.17 in ./colabenv/lib/python3.9/site-packages (from transformers) (2024.5.15)\n",
            "Requirement already satisfied: requests in ./colabenv/lib/python3.9/site-packages (from transformers) (2.32.3)\n",
            "Requirement already satisfied: safetensors>=0.4.1 in ./colabenv/lib/python3.9/site-packages (from transformers) (0.4.3)\n",
            "Requirement already satisfied: tokenizers<0.21,>=0.20 in ./colabenv/lib/python3.9/site-packages (from transformers) (0.20.0)\n",
            "Requirement already satisfied: tqdm>=4.27 in ./colabenv/lib/python3.9/site-packages (from transformers) (4.66.4)\n",
            "Requirement already satisfied: fsspec>=2023.5.0 in ./colabenv/lib/python3.9/site-packages (from huggingface-hub<1.0,>=0.23.2->transformers) (2024.5.0)\n",
            "Requirement already satisfied: typing-extensions>=3.7.4.3 in ./colabenv/lib/python3.9/site-packages (from huggingface-hub<1.0,>=0.23.2->transformers) (4.12.2)\n",
            "Requirement already satisfied: charset-normalizer<4,>=2 in ./colabenv/lib/python3.9/site-packages (from requests->transformers) (3.3.2)\n",
            "Requirement already satisfied: idna<4,>=2.5 in ./colabenv/lib/python3.9/site-packages (from requests->transformers) (3.7)\n",
            "Requirement already satisfied: urllib3<3,>=1.21.1 in ./colabenv/lib/python3.9/site-packages (from requests->transformers) (2.2.2)\n",
            "Requirement already satisfied: certifi>=2017.4.17 in ./colabenv/lib/python3.9/site-packages (from requests->transformers) (2024.6.2)\n",
            "Found existing installation: sentencepiece 0.2.0\n",
            "Uninstalling sentencepiece-0.2.0:\n",
            "  Successfully uninstalled sentencepiece-0.2.0\n",
            "Found existing installation: transformers 4.45.1\n",
            "Uninstalling transformers-4.45.1:\n",
            "  Successfully uninstalled transformers-4.45.1\n",
            "Collecting transformers\n",
            "  Downloading transformers-4.45.1-py3-none-any.whl.metadata (44 kB)\n",
            "Collecting sentencepiece\n",
            "  Downloading sentencepiece-0.2.0-cp39-cp39-manylinux_2_17_x86_64.manylinux2014_x86_64.whl.metadata (7.7 kB)\n",
            "Requirement already satisfied: filelock in ./colabenv/lib/python3.9/site-packages (from transformers) (3.15.4)\n",
            "Requirement already satisfied: huggingface-hub<1.0,>=0.23.2 in ./colabenv/lib/python3.9/site-packages (from transformers) (0.23.4)\n",
            "Requirement already satisfied: numpy>=1.17 in ./colabenv/lib/python3.9/site-packages (from transformers) (1.26.4)\n",
            "Requirement already satisfied: packaging>=20.0 in ./colabenv/lib/python3.9/site-packages (from transformers) (24.1)\n",
            "Requirement already satisfied: pyyaml>=5.1 in ./colabenv/lib/python3.9/site-packages (from transformers) (6.0.1)\n",
            "Requirement already satisfied: regex!=2019.12.17 in ./colabenv/lib/python3.9/site-packages (from transformers) (2024.5.15)\n",
            "Requirement already satisfied: requests in ./colabenv/lib/python3.9/site-packages (from transformers) (2.32.3)\n",
            "Requirement already satisfied: safetensors>=0.4.1 in ./colabenv/lib/python3.9/site-packages (from transformers) (0.4.3)\n",
            "Requirement already satisfied: tokenizers<0.21,>=0.20 in ./colabenv/lib/python3.9/site-packages (from transformers) (0.20.0)\n",
            "Requirement already satisfied: tqdm>=4.27 in ./colabenv/lib/python3.9/site-packages (from transformers) (4.66.4)\n",
            "Requirement already satisfied: fsspec>=2023.5.0 in ./colabenv/lib/python3.9/site-packages (from huggingface-hub<1.0,>=0.23.2->transformers) (2024.5.0)\n",
            "Requirement already satisfied: typing-extensions>=3.7.4.3 in ./colabenv/lib/python3.9/site-packages (from huggingface-hub<1.0,>=0.23.2->transformers) (4.12.2)\n",
            "Requirement already satisfied: charset-normalizer<4,>=2 in ./colabenv/lib/python3.9/site-packages (from requests->transformers) (3.3.2)\n",
            "Requirement already satisfied: idna<4,>=2.5 in ./colabenv/lib/python3.9/site-packages (from requests->transformers) (3.7)\n",
            "Requirement already satisfied: urllib3<3,>=1.21.1 in ./colabenv/lib/python3.9/site-packages (from requests->transformers) (2.2.2)\n",
            "Requirement already satisfied: certifi>=2017.4.17 in ./colabenv/lib/python3.9/site-packages (from requests->transformers) (2024.6.2)\n",
            "Downloading transformers-4.45.1-py3-none-any.whl (9.9 MB)\n",
            "\u001b[2K   \u001b[90m━━━━━━━━━━━━━━━━━━━━━━━━━━━━━━━━━━━━━━━━\u001b[0m \u001b[32m9.9/9.9 MB\u001b[0m \u001b[31m97.1 MB/s\u001b[0m eta \u001b[36m0:00:00\u001b[0m\n",
            "\u001b[?25hDownloading sentencepiece-0.2.0-cp39-cp39-manylinux_2_17_x86_64.manylinux2014_x86_64.whl (1.3 MB)\n",
            "\u001b[2K   \u001b[90m━━━━━━━━━━━━━━━━━━━━━━━━━━━━━━━━━━━━━━━━\u001b[0m \u001b[32m1.3/1.3 MB\u001b[0m \u001b[31m691.0 MB/s\u001b[0m eta \u001b[36m0:00:00\u001b[0m\n",
            "\u001b[?25hInstalling collected packages: sentencepiece, transformers\n",
            "Successfully installed sentencepiece-0.2.0 transformers-4.45.1\n",
            "Requirement already satisfied: plotly in ./colabenv/lib/python3.9/site-packages (5.22.0)\n",
            "Requirement already satisfied: tenacity>=6.2.0 in ./colabenv/lib/python3.9/site-packages (from plotly) (8.4.2)\n",
            "Requirement already satisfied: packaging in ./colabenv/lib/python3.9/site-packages (from plotly) (24.1)\n",
            "Requirement already satisfied: pandas in ./colabenv/lib/python3.9/site-packages (2.2.3)\n",
            "Requirement already satisfied: numpy in ./colabenv/lib/python3.9/site-packages (1.26.4)\n",
            "Requirement already satisfied: scipy in ./colabenv/lib/python3.9/site-packages (1.13.1)\n",
            "Requirement already satisfied: scikit-learn in ./colabenv/lib/python3.9/site-packages (1.5.2)\n",
            "Requirement already satisfied: transformers in ./colabenv/lib/python3.9/site-packages (4.45.1)\n",
            "Requirement already satisfied: sentence-transformers in ./colabenv/lib/python3.9/site-packages (3.1.1)\n",
            "Collecting gower\n",
            "  Downloading gower-0.1.2-py3-none-any.whl.metadata (3.7 kB)\n",
            "Requirement already satisfied: python-dateutil>=2.8.2 in ./colabenv/lib/python3.9/site-packages (from pandas) (2.9.0.post0)\n",
            "Requirement already satisfied: pytz>=2020.1 in ./colabenv/lib/python3.9/site-packages (from pandas) (2024.1)\n",
            "Requirement already satisfied: tzdata>=2022.7 in ./colabenv/lib/python3.9/site-packages (from pandas) (2024.1)\n",
            "Requirement already satisfied: joblib>=1.2.0 in ./colabenv/lib/python3.9/site-packages (from scikit-learn) (1.4.2)\n",
            "Requirement already satisfied: threadpoolctl>=3.1.0 in ./colabenv/lib/python3.9/site-packages (from scikit-learn) (3.5.0)\n",
            "Requirement already satisfied: filelock in ./colabenv/lib/python3.9/site-packages (from transformers) (3.15.4)\n",
            "Requirement already satisfied: huggingface-hub<1.0,>=0.23.2 in ./colabenv/lib/python3.9/site-packages (from transformers) (0.23.4)\n",
            "Requirement already satisfied: packaging>=20.0 in ./colabenv/lib/python3.9/site-packages (from transformers) (24.1)\n",
            "Requirement already satisfied: pyyaml>=5.1 in ./colabenv/lib/python3.9/site-packages (from transformers) (6.0.1)\n",
            "Requirement already satisfied: regex!=2019.12.17 in ./colabenv/lib/python3.9/site-packages (from transformers) (2024.5.15)\n",
            "Requirement already satisfied: requests in ./colabenv/lib/python3.9/site-packages (from transformers) (2.32.3)\n",
            "Requirement already satisfied: safetensors>=0.4.1 in ./colabenv/lib/python3.9/site-packages (from transformers) (0.4.3)\n",
            "Requirement already satisfied: tokenizers<0.21,>=0.20 in ./colabenv/lib/python3.9/site-packages (from transformers) (0.20.0)\n",
            "Requirement already satisfied: tqdm>=4.27 in ./colabenv/lib/python3.9/site-packages (from transformers) (4.66.4)\n",
            "Requirement already satisfied: torch>=1.11.0 in ./colabenv/lib/python3.9/site-packages (from sentence-transformers) (2.3.1)\n",
            "Requirement already satisfied: Pillow in ./colabenv/lib/python3.9/site-packages (from sentence-transformers) (10.3.0)\n",
            "Requirement already satisfied: fsspec>=2023.5.0 in ./colabenv/lib/python3.9/site-packages (from huggingface-hub<1.0,>=0.23.2->transformers) (2024.5.0)\n",
            "Requirement already satisfied: typing-extensions>=3.7.4.3 in ./colabenv/lib/python3.9/site-packages (from huggingface-hub<1.0,>=0.23.2->transformers) (4.12.2)\n",
            "Requirement already satisfied: six>=1.5 in ./colabenv/lib/python3.9/site-packages (from python-dateutil>=2.8.2->pandas) (1.16.0)\n",
            "Requirement already satisfied: sympy in ./colabenv/lib/python3.9/site-packages (from torch>=1.11.0->sentence-transformers) (1.12.1)\n",
            "Requirement already satisfied: networkx in ./colabenv/lib/python3.9/site-packages (from torch>=1.11.0->sentence-transformers) (3.2.1)\n",
            "Requirement already satisfied: jinja2 in ./colabenv/lib/python3.9/site-packages (from torch>=1.11.0->sentence-transformers) (3.1.4)\n",
            "Requirement already satisfied: nvidia-cuda-nvrtc-cu12==12.1.105 in ./colabenv/lib/python3.9/site-packages (from torch>=1.11.0->sentence-transformers) (12.1.105)\n",
            "Requirement already satisfied: nvidia-cuda-runtime-cu12==12.1.105 in ./colabenv/lib/python3.9/site-packages (from torch>=1.11.0->sentence-transformers) (12.1.105)\n",
            "Requirement already satisfied: nvidia-cuda-cupti-cu12==12.1.105 in ./colabenv/lib/python3.9/site-packages (from torch>=1.11.0->sentence-transformers) (12.1.105)\n",
            "Requirement already satisfied: nvidia-cudnn-cu12==8.9.2.26 in ./colabenv/lib/python3.9/site-packages (from torch>=1.11.0->sentence-transformers) (8.9.2.26)\n",
            "Requirement already satisfied: nvidia-cublas-cu12==12.1.3.1 in ./colabenv/lib/python3.9/site-packages (from torch>=1.11.0->sentence-transformers) (12.1.3.1)\n",
            "Requirement already satisfied: nvidia-cufft-cu12==11.0.2.54 in ./colabenv/lib/python3.9/site-packages (from torch>=1.11.0->sentence-transformers) (11.0.2.54)\n",
            "Requirement already satisfied: nvidia-curand-cu12==10.3.2.106 in ./colabenv/lib/python3.9/site-packages (from torch>=1.11.0->sentence-transformers) (10.3.2.106)\n",
            "Requirement already satisfied: nvidia-cusolver-cu12==11.4.5.107 in ./colabenv/lib/python3.9/site-packages (from torch>=1.11.0->sentence-transformers) (11.4.5.107)\n",
            "Requirement already satisfied: nvidia-cusparse-cu12==12.1.0.106 in ./colabenv/lib/python3.9/site-packages (from torch>=1.11.0->sentence-transformers) (12.1.0.106)\n",
            "Requirement already satisfied: nvidia-nccl-cu12==2.20.5 in ./colabenv/lib/python3.9/site-packages (from torch>=1.11.0->sentence-transformers) (2.20.5)\n",
            "Requirement already satisfied: nvidia-nvtx-cu12==12.1.105 in ./colabenv/lib/python3.9/site-packages (from torch>=1.11.0->sentence-transformers) (12.1.105)\n",
            "Requirement already satisfied: triton==2.3.1 in ./colabenv/lib/python3.9/site-packages (from torch>=1.11.0->sentence-transformers) (2.3.1)\n",
            "Requirement already satisfied: nvidia-nvjitlink-cu12 in ./colabenv/lib/python3.9/site-packages (from nvidia-cusolver-cu12==11.4.5.107->torch>=1.11.0->sentence-transformers) (12.5.40)\n",
            "Requirement already satisfied: charset-normalizer<4,>=2 in ./colabenv/lib/python3.9/site-packages (from requests->transformers) (3.3.2)\n",
            "Requirement already satisfied: idna<4,>=2.5 in ./colabenv/lib/python3.9/site-packages (from requests->transformers) (3.7)\n",
            "Requirement already satisfied: urllib3<3,>=1.21.1 in ./colabenv/lib/python3.9/site-packages (from requests->transformers) (2.2.2)\n",
            "Requirement already satisfied: certifi>=2017.4.17 in ./colabenv/lib/python3.9/site-packages (from requests->transformers) (2024.6.2)\n",
            "Requirement already satisfied: MarkupSafe>=2.0 in ./colabenv/lib/python3.9/site-packages (from jinja2->torch>=1.11.0->sentence-transformers) (2.1.5)\n",
            "Requirement already satisfied: mpmath<1.4.0,>=1.1.0 in ./colabenv/lib/python3.9/site-packages (from sympy->torch>=1.11.0->sentence-transformers) (1.3.0)\n",
            "Downloading gower-0.1.2-py3-none-any.whl (5.2 kB)\n",
            "Installing collected packages: gower\n",
            "Successfully installed gower-0.1.2\n"
          ]
        }
      ],
      "source": [
        "!pip install nltk\n",
        "!pip install --upgrade transformers\n",
        "!pip install --upgrade sentence-transformers\n",
        "!pip install --upgrade scikit-learn\n",
        "!pip install --upgrade pandas\n",
        "!pip install --upgrade matplotlib seaborn\n",
        "!pip install --upgrade sentencepiece\n",
        "!pip install --no-cache-dir transformers sentencepiece\n",
        "!pip uninstall -y sentencepiece\n",
        "!pip uninstall -y transformers\n",
        "!pip install --no-cache-dir transformers sentencepiece\n",
        "!pip install plotly\n",
        "!pip install pandas numpy scipy scikit-learn transformers sentence-transformers gower"
      ]
    },
    {
      "cell_type": "code",
      "execution_count": null,
      "metadata": {
        "id": "8kGQcCPkI8_Y"
      },
      "outputs": [],
      "source": [
        "import torch\n",
        "from transformers import AutoModel, AutoTokenizer\n",
        "import pandas as pd\n",
        "import numpy as np\n",
        "from sklearn.decomposition import PCA\n",
        "from sklearn.cluster import KMeans\n",
        "from sklearn.metrics import silhouette_score\n",
        "import matplotlib.pyplot as plt\n",
        "from sklearn.feature_extraction.text import TfidfVectorizer\n",
        "import seaborn as sns\n",
        "from sklearn.decomposition import PCA\n",
        "import matplotlib.pyplot as plt\n",
        "from sklearn.preprocessing import StandardScaler\n",
        "import pandas as pd\n",
        "import numpy as np\n",
        "import torch\n",
        "from transformers import DebertaV2Tokenizer, DebertaV2Model\n",
        "from sklearn.preprocessing import StandardScaler\n",
        "from sklearn.cluster import AgglomerativeClustering\n",
        "import scipy.cluster.hierarchy as sch\n",
        "from scipy.spatial.distance import pdist, squareform\n",
        "import gower\n",
        "# import sentencepiece as smp"
      ]
    },
    {
      "cell_type": "code",
      "execution_count": null,
      "metadata": {
        "colab": {
          "base_uri": "https://localhost:8080/",
          "height": 585
        },
        "id": "smjISLohJC1H",
        "outputId": "505e4bdf-3a5f-4b12-a90c-07c5d16d2c82"
      },
      "outputs": [
        {
          "output_type": "execute_result",
          "data": {
            "text/plain": [
              "                                                text  admiration  amusement  \\\n",
              "0                                    That game hurt.           0          0   \n",
              "1   >sexuality shouldn’t be a grouping category I...           0          0   \n",
              "2     You do right, if you don't care then fuck 'em!           0          0   \n",
              "3                                 Man I love reddit.           0          0   \n",
              "4  [NAME] was nowhere near them, he was by the Fa...           0          0   \n",
              "\n",
              "   anger  annoyance  approval  caring  confusion  curiosity  desire  ...  \\\n",
              "0      0          0         0       0          0          0       0  ...   \n",
              "1      0          0         0       0          0          0       0  ...   \n",
              "2      0          0         0       0          0          0       0  ...   \n",
              "3      0          0         0       0          0          0       0  ...   \n",
              "4      0          0         0       0          0          0       0  ...   \n",
              "\n",
              "   love  nervousness  optimism  pride  realization  relief  remorse  sadness  \\\n",
              "0     0            0         0      0            0       0        0        1   \n",
              "1     0            0         0      0            0       0        0        0   \n",
              "2     0            0         0      0            0       0        0        0   \n",
              "3     1            0         0      0            0       0        0        0   \n",
              "4     0            0         0      0            0       0        0        0   \n",
              "\n",
              "   surprise  neutral  \n",
              "0         0        0  \n",
              "1         0        0  \n",
              "2         0        1  \n",
              "3         0        0  \n",
              "4         0        1  \n",
              "\n",
              "[5 rows x 29 columns]"
            ],
            "text/html": [
              "<div>\n",
              "<style scoped>\n",
              "    .dataframe tbody tr th:only-of-type {\n",
              "        vertical-align: middle;\n",
              "    }\n",
              "\n",
              "    .dataframe tbody tr th {\n",
              "        vertical-align: top;\n",
              "    }\n",
              "\n",
              "    .dataframe thead th {\n",
              "        text-align: right;\n",
              "    }\n",
              "</style>\n",
              "<table border=\"1\" class=\"dataframe\">\n",
              "  <thead>\n",
              "    <tr style=\"text-align: right;\">\n",
              "      <th></th>\n",
              "      <th>text</th>\n",
              "      <th>admiration</th>\n",
              "      <th>amusement</th>\n",
              "      <th>anger</th>\n",
              "      <th>annoyance</th>\n",
              "      <th>approval</th>\n",
              "      <th>caring</th>\n",
              "      <th>confusion</th>\n",
              "      <th>curiosity</th>\n",
              "      <th>desire</th>\n",
              "      <th>...</th>\n",
              "      <th>love</th>\n",
              "      <th>nervousness</th>\n",
              "      <th>optimism</th>\n",
              "      <th>pride</th>\n",
              "      <th>realization</th>\n",
              "      <th>relief</th>\n",
              "      <th>remorse</th>\n",
              "      <th>sadness</th>\n",
              "      <th>surprise</th>\n",
              "      <th>neutral</th>\n",
              "    </tr>\n",
              "  </thead>\n",
              "  <tbody>\n",
              "    <tr>\n",
              "      <th>0</th>\n",
              "      <td>That game hurt.</td>\n",
              "      <td>0</td>\n",
              "      <td>0</td>\n",
              "      <td>0</td>\n",
              "      <td>0</td>\n",
              "      <td>0</td>\n",
              "      <td>0</td>\n",
              "      <td>0</td>\n",
              "      <td>0</td>\n",
              "      <td>0</td>\n",
              "      <td>...</td>\n",
              "      <td>0</td>\n",
              "      <td>0</td>\n",
              "      <td>0</td>\n",
              "      <td>0</td>\n",
              "      <td>0</td>\n",
              "      <td>0</td>\n",
              "      <td>0</td>\n",
              "      <td>1</td>\n",
              "      <td>0</td>\n",
              "      <td>0</td>\n",
              "    </tr>\n",
              "    <tr>\n",
              "      <th>1</th>\n",
              "      <td>&gt;sexuality shouldn’t be a grouping category I...</td>\n",
              "      <td>0</td>\n",
              "      <td>0</td>\n",
              "      <td>0</td>\n",
              "      <td>0</td>\n",
              "      <td>0</td>\n",
              "      <td>0</td>\n",
              "      <td>0</td>\n",
              "      <td>0</td>\n",
              "      <td>0</td>\n",
              "      <td>...</td>\n",
              "      <td>0</td>\n",
              "      <td>0</td>\n",
              "      <td>0</td>\n",
              "      <td>0</td>\n",
              "      <td>0</td>\n",
              "      <td>0</td>\n",
              "      <td>0</td>\n",
              "      <td>0</td>\n",
              "      <td>0</td>\n",
              "      <td>0</td>\n",
              "    </tr>\n",
              "    <tr>\n",
              "      <th>2</th>\n",
              "      <td>You do right, if you don't care then fuck 'em!</td>\n",
              "      <td>0</td>\n",
              "      <td>0</td>\n",
              "      <td>0</td>\n",
              "      <td>0</td>\n",
              "      <td>0</td>\n",
              "      <td>0</td>\n",
              "      <td>0</td>\n",
              "      <td>0</td>\n",
              "      <td>0</td>\n",
              "      <td>...</td>\n",
              "      <td>0</td>\n",
              "      <td>0</td>\n",
              "      <td>0</td>\n",
              "      <td>0</td>\n",
              "      <td>0</td>\n",
              "      <td>0</td>\n",
              "      <td>0</td>\n",
              "      <td>0</td>\n",
              "      <td>0</td>\n",
              "      <td>1</td>\n",
              "    </tr>\n",
              "    <tr>\n",
              "      <th>3</th>\n",
              "      <td>Man I love reddit.</td>\n",
              "      <td>0</td>\n",
              "      <td>0</td>\n",
              "      <td>0</td>\n",
              "      <td>0</td>\n",
              "      <td>0</td>\n",
              "      <td>0</td>\n",
              "      <td>0</td>\n",
              "      <td>0</td>\n",
              "      <td>0</td>\n",
              "      <td>...</td>\n",
              "      <td>1</td>\n",
              "      <td>0</td>\n",
              "      <td>0</td>\n",
              "      <td>0</td>\n",
              "      <td>0</td>\n",
              "      <td>0</td>\n",
              "      <td>0</td>\n",
              "      <td>0</td>\n",
              "      <td>0</td>\n",
              "      <td>0</td>\n",
              "    </tr>\n",
              "    <tr>\n",
              "      <th>4</th>\n",
              "      <td>[NAME] was nowhere near them, he was by the Fa...</td>\n",
              "      <td>0</td>\n",
              "      <td>0</td>\n",
              "      <td>0</td>\n",
              "      <td>0</td>\n",
              "      <td>0</td>\n",
              "      <td>0</td>\n",
              "      <td>0</td>\n",
              "      <td>0</td>\n",
              "      <td>0</td>\n",
              "      <td>...</td>\n",
              "      <td>0</td>\n",
              "      <td>0</td>\n",
              "      <td>0</td>\n",
              "      <td>0</td>\n",
              "      <td>0</td>\n",
              "      <td>0</td>\n",
              "      <td>0</td>\n",
              "      <td>0</td>\n",
              "      <td>0</td>\n",
              "      <td>1</td>\n",
              "    </tr>\n",
              "  </tbody>\n",
              "</table>\n",
              "<p>5 rows × 29 columns</p>\n",
              "</div>"
            ]
          },
          "metadata": {},
          "execution_count": 6
        }
      ],
      "source": [
        "data = pd.read_csv(\"cleaned_goEmotions.csv\")\n",
        "data.head()"
      ]
    },
    {
      "cell_type": "code",
      "source": [
        "emotion_columns = ['admiration', 'amusement', 'anger', 'annoyance', 'approval', 'caring',\n",
        "                   'confusion', 'curiosity', 'desire', 'disappointment', 'disapproval',\n",
        "                   'disgust', 'embarrassment', 'excitement', 'fear', 'gratitude', 'grief',\n",
        "                   'joy', 'love', 'nervousness', 'optimism', 'pride', 'realization',\n",
        "                   'relief', 'remorse', 'sadness', 'surprise', 'neutral']\n"
      ],
      "metadata": {
        "id": "BLayIhtH82vq"
      },
      "execution_count": null,
      "outputs": []
    },
    {
      "cell_type": "code",
      "source": [
        "data = data.dropna(subset=['text'])\n",
        "data = data.reset_index(drop=True)\n",
        "data[emotion_columns] = data[emotion_columns].astype(int)"
      ],
      "metadata": {
        "id": "_oPFdJPZ85UZ"
      },
      "execution_count": null,
      "outputs": []
    },
    {
      "cell_type": "code",
      "execution_count": null,
      "metadata": {
        "colab": {
          "base_uri": "https://localhost:8080/"
        },
        "id": "yzwkDn-PKQ43",
        "outputId": "ff1e655a-28bb-421d-9d37-7fc209b03ea1"
      },
      "outputs": [
        {
          "output_type": "stream",
          "name": "stderr",
          "text": [
            "/ssddata/home/mmv5513/colabenv/lib64/python3.9/site-packages/transformers/tokenization_utils_base.py:1617: FutureWarning: `clean_up_tokenization_spaces` was not set. It will be set to `True` by default. This behavior will be deprecated in transformers v4.45, and will be then set to `False` by default. For more details check this issue: https://github.com/huggingface/transformers/issues/31884\n",
            "  warnings.warn(\n"
          ]
        }
      ],
      "source": [
        "tokenizer = AutoTokenizer.from_pretrained(\"microsoft/deberta-v3-base\", use_fast=False)\n",
        "model = AutoModel.from_pretrained(\"microsoft/deberta-v3-base\")"
      ]
    },
    {
      "cell_type": "code",
      "execution_count": null,
      "metadata": {
        "colab": {
          "base_uri": "https://localhost:8080/"
        },
        "id": "6TRrKAfhRxWB",
        "outputId": "0158fedb-89c5-4016-eb93-7723070b617b"
      },
      "outputs": [
        {
          "output_type": "execute_result",
          "data": {
            "text/plain": [
              "DebertaV2Model(\n",
              "  (embeddings): DebertaV2Embeddings(\n",
              "    (word_embeddings): Embedding(128100, 768, padding_idx=0)\n",
              "    (LayerNorm): LayerNorm((768,), eps=1e-07, elementwise_affine=True)\n",
              "    (dropout): StableDropout()\n",
              "  )\n",
              "  (encoder): DebertaV2Encoder(\n",
              "    (layer): ModuleList(\n",
              "      (0-11): 12 x DebertaV2Layer(\n",
              "        (attention): DebertaV2Attention(\n",
              "          (self): DisentangledSelfAttention(\n",
              "            (query_proj): Linear(in_features=768, out_features=768, bias=True)\n",
              "            (key_proj): Linear(in_features=768, out_features=768, bias=True)\n",
              "            (value_proj): Linear(in_features=768, out_features=768, bias=True)\n",
              "            (pos_dropout): StableDropout()\n",
              "            (dropout): StableDropout()\n",
              "          )\n",
              "          (output): DebertaV2SelfOutput(\n",
              "            (dense): Linear(in_features=768, out_features=768, bias=True)\n",
              "            (LayerNorm): LayerNorm((768,), eps=1e-07, elementwise_affine=True)\n",
              "            (dropout): StableDropout()\n",
              "          )\n",
              "        )\n",
              "        (intermediate): DebertaV2Intermediate(\n",
              "          (dense): Linear(in_features=768, out_features=3072, bias=True)\n",
              "          (intermediate_act_fn): GELUActivation()\n",
              "        )\n",
              "        (output): DebertaV2Output(\n",
              "          (dense): Linear(in_features=3072, out_features=768, bias=True)\n",
              "          (LayerNorm): LayerNorm((768,), eps=1e-07, elementwise_affine=True)\n",
              "          (dropout): StableDropout()\n",
              "        )\n",
              "      )\n",
              "    )\n",
              "    (rel_embeddings): Embedding(512, 768)\n",
              "    (LayerNorm): LayerNorm((768,), eps=1e-07, elementwise_affine=True)\n",
              "  )\n",
              ")"
            ]
          },
          "metadata": {},
          "execution_count": 10
        }
      ],
      "source": [
        "model.eval()\n",
        "device = torch.device('cuda' if torch.cuda.is_available() else 'cpu')\n",
        "model.to(device)"
      ]
    },
    {
      "cell_type": "code",
      "execution_count": null,
      "metadata": {
        "id": "BVNsBiPHLLQK"
      },
      "outputs": [],
      "source": [
        "def get_embeddings(texts, tokenizer, model, device, batch_size=32):\n",
        "    embeddings = []\n",
        "    model.eval()\n",
        "    with torch.no_grad():\n",
        "        for i in range(0, len(texts), batch_size):\n",
        "            batch_texts = texts[i:i+batch_size]\n",
        "            inputs = tokenizer(batch_texts, return_tensors='pt', padding=True, truncation=True, max_length=128)\n",
        "            inputs = {key: value.to(device) for key, value in inputs.items()}\n",
        "            outputs = model(**inputs)\n",
        "            batch_embeddings = outputs.last_hidden_state[:, 0, :].cpu().numpy()\n",
        "            embeddings.extend(batch_embeddings)\n",
        "    return np.array(embeddings)\n"
      ]
    },
    {
      "cell_type": "code",
      "execution_count": null,
      "metadata": {
        "colab": {
          "base_uri": "https://localhost:8080/"
        },
        "id": "gNHek6OIKxbv",
        "outputId": "47f21bc9-1c37-4c87-fdbd-bcda224eccef"
      },
      "outputs": [
        {
          "output_type": "stream",
          "name": "stdout",
          "text": [
            "Embeddings shape: (211225, 768)\n"
          ]
        }
      ],
      "source": [
        "texts = data['text'].tolist()\n",
        "text_embeddings = get_embeddings(texts, tokenizer, model, device)\n",
        "print(f\"Embeddings shape: {text_embeddings.shape}\")"
      ]
    },
    {
      "cell_type": "code",
      "source": [
        "emotion_features = data[emotion_columns].values\n",
        "combined_features = np.hstack((text_embeddings, emotion_features))"
      ],
      "metadata": {
        "id": "nx8OdTnX9QMB"
      },
      "execution_count": null,
      "outputs": []
    },
    {
      "cell_type": "code",
      "execution_count": null,
      "metadata": {
        "id": "dSGKe8uBRPtW"
      },
      "outputs": [],
      "source": [
        "scaler = StandardScaler()\n",
        "text_embeddings_scaled = scaler.fit_transform(text_embeddings)\n",
        "\n",
        "combined_features_scaled = np.hstack((text_embeddings_scaled, emotion_features))"
      ]
    },
    {
      "cell_type": "code",
      "source": [
        "df_combined = pd.DataFrame(text_embeddings_scaled)\n",
        "df_emotions = pd.DataFrame(emotion_features, columns=emotion_columns)"
      ],
      "metadata": {
        "id": "THrKuDzi9c7c"
      },
      "execution_count": null,
      "outputs": []
    },
    {
      "cell_type": "code",
      "source": [
        "df_for_gower = pd.concat([df_combined, df_emotions], axis=1)\n",
        "gower_dist = gower.gower_matrix(df_for_gower)"
      ],
      "metadata": {
        "id": "hQAimdB79fKI"
      },
      "execution_count": null,
      "outputs": []
    },
    {
      "cell_type": "code",
      "execution_count": null,
      "metadata": {
        "id": "utDG3iZfXEAp"
      },
      "outputs": [],
      "source": [
        "optimal_clusters = 81\n",
        "\n",
        "agglo = AgglomerativeClustering(n_clusters=optimal_clusters, affinity='precomputed', linkage='average')\n",
        "cluster_labels = agglo.fit_predict(gower_dist)\n"
      ]
    },
    {
      "cell_type": "code",
      "execution_count": null,
      "metadata": {
        "id": "tdpkkeOUXQ7R"
      },
      "outputs": [],
      "source": [
        "data['cluster'] = cluster_labels\n"
      ]
    },
    {
      "cell_type": "code",
      "execution_count": null,
      "metadata": {
        "id": "-xfF7dre5J54"
      },
      "outputs": [],
      "source": [
        "data.to_csv('clustered_data_81.csv', index=False)"
      ]
    },
    {
      "cell_type": "code",
      "execution_count": null,
      "metadata": {
        "id": "2Ui13cbKXW5i"
      },
      "outputs": [],
      "source": [
        "def display_cluster_samples(df, cluster_num, num_samples=5):\n",
        "    print(f\"\\nCluster {cluster_num} samples:\")\n",
        "    samples = df[df['cluster'] == cluster_num]['text'].sample(n=num_samples, random_state=42)\n",
        "    for text in samples:\n",
        "        print(f\"- {text}\")\n",
        "\n",
        "for cluster_num in range(optimal_clusters):\n",
        "    display_cluster_samples(data, cluster_num)\n"
      ]
    },
    {
      "cell_type": "code",
      "execution_count": null,
      "metadata": {
        "id": "l3Q0eAlbXaq2"
      },
      "outputs": [],
      "source": [
        "import re\n",
        "from collections import Counter\n",
        "import nltk\n",
        "from nltk.corpus import stopwords\n",
        "\n",
        "# Download stopwords if you haven't already\n",
        "nltk.download('stopwords')\n",
        "\n",
        "# Get the English stopwords list\n",
        "stop_words = set(stopwords.words('english'))\n",
        "\n",
        "def get_cluster_keywords(df, cluster_num, num_keywords=10):\n",
        "    texts = df[df['cluster'] == cluster_num]['text']\n",
        "    all_words = ' '.join(texts).lower()\n",
        "    words = re.findall(r'\\b\\w+\\b', all_words)\n",
        "\n",
        "    # Filter out stopwords\n",
        "    filtered_words = [word for word in words if word not in stop_words]\n",
        "\n",
        "    # Get the most common words that aren't stopwords\n",
        "    common_words = Counter(filtered_words).most_common(num_keywords)\n",
        "\n",
        "    print(f\"\\nCluster {cluster_num} top keywords (excluding stopwords):\")\n",
        "    for word, count in common_words:\n",
        "        print(f\"{word}: {count}\")\n",
        "\n",
        "for cluster_num in range(optimal_clusters):\n",
        "    get_cluster_keywords(data, cluster_num)\n"
      ]
    },
    {
      "cell_type": "code",
      "execution_count": null,
      "metadata": {
        "id": "J4EgQAFqXcfF"
      },
      "outputs": [],
      "source": [
        "# Reduce embeddings to 2D for visualization\n",
        "pca_2d = PCA(n_components=2, random_state=42)\n",
        "embeddings_2d = pca_2d.fit_transform(reduced_features)\n",
        "\n",
        "# Plot clusters\n",
        "plt.figure(figsize=(10, 7))\n",
        "sns.scatterplot(\n",
        "    x=embeddings_2d[:, 0],\n",
        "    y=embeddings_2d[:, 1],\n",
        "    hue=cluster_labels,\n",
        "    palette=sns.color_palette('hsv', num_clusters)  # or any large palette\n",
        ")\n",
        "plt.title('Clusters of Samples')\n",
        "plt.show()\n"
      ]
    },
    {
      "cell_type": "code",
      "execution_count": null,
      "metadata": {
        "id": "-muUINFBn4Sp"
      },
      "outputs": [],
      "source": [
        "import numpy as np\n",
        "unique_clusters, counts = np.unique(cluster_labels, return_counts=True)\n",
        "print(dict(zip(unique_clusters, counts)))\n"
      ]
    },
    {
      "cell_type": "code",
      "execution_count": null,
      "metadata": {
        "id": "9WJZh9qzrvAN"
      },
      "outputs": [],
      "source": [
        "import matplotlib.pyplot as plt\n",
        "from mpl_toolkits.mplot3d import Axes3D\n",
        "import seaborn as sns\n",
        "\n",
        "# Reduce embeddings to 3D for visualization\n",
        "pca_3d = PCA(n_components=3, random_state=42)\n",
        "embeddings_3d = pca_3d.fit_transform(reduced_features)  # Apply PCA to reduce to 3 components\n",
        "\n",
        "# Create a 3D scatter plot\n",
        "fig = plt.figure(figsize=(10, 7))\n",
        "ax = fig.add_subplot(111, projection='3d')\n",
        "\n",
        "# Plot the data points in 3D space with colors based on the cluster labels\n",
        "scatter = ax.scatter(\n",
        "    embeddings_3d[:, 0],  # x axis\n",
        "    embeddings_3d[:, 1],  # y axis\n",
        "    embeddings_3d[:, 2],  # z axis\n",
        "    c=cluster_labels,     # color by cluster label\n",
        "    cmap='viridis',       # colormap (you can adjust this)\n",
        "    s=10                  # size of points\n",
        ")\n",
        "\n",
        "# Add a color bar to indicate which colors represent which clusters\n",
        "legend1 = ax.legend(*scatter.legend_elements(), title=\"Clusters\", loc=\"upper right\")\n",
        "ax.add_artist(legend1)\n",
        "\n",
        "# Set labels\n",
        "ax.set_xlabel('PCA Component 1')\n",
        "ax.set_ylabel('PCA Component 2')\n",
        "ax.set_zlabel('PCA Component 3')\n",
        "\n",
        "# Title of the plot\n",
        "plt.title('3D Cluster Visualization')\n",
        "\n",
        "# Show the plot\n",
        "plt.show()\n"
      ]
    },
    {
      "cell_type": "code",
      "execution_count": null,
      "metadata": {
        "id": "c8E6Qhu6rpxc"
      },
      "outputs": [],
      "source": [
        "import plotly.express as px\n",
        "import pandas as pd\n",
        "\n",
        "# Create a DataFrame from the 3D PCA results\n",
        "df_3d = pd.DataFrame({\n",
        "    'PCA Component 1': embeddings_3d[:, 0],\n",
        "    'PCA Component 2': embeddings_3d[:, 1],\n",
        "    'PCA Component 3': embeddings_3d[:, 2],\n",
        "    'Cluster': cluster_labels\n",
        "})\n",
        "\n",
        "# Create an interactive 3D scatter plot\n",
        "fig = px.scatter_3d(df_3d,\n",
        "                    x='PCA Component 1',\n",
        "                    y='PCA Component 2',\n",
        "                    z='PCA Component 3',\n",
        "                    color='Cluster',\n",
        "                    title='Interactive 3D Cluster Visualization')\n",
        "\n",
        "# Show the interactive plot\n",
        "fig.show()\n"
      ]
    },
    {
      "cell_type": "code",
      "execution_count": null,
      "metadata": {
        "collapsed": true,
        "id": "iUVHbF3usiVo"
      },
      "outputs": [],
      "source": [
        "import plotly.express as px\n",
        "import plotly.io as pio\n",
        "\n",
        "# Set default renderer for Jupyter Notebooks\n",
        "pio.renderers.default = 'notebook'\n",
        "\n",
        "# Show the plot\n",
        "fig.show()\n"
      ]
    },
    {
      "cell_type": "code",
      "execution_count": null,
      "metadata": {
        "id": "rWq_23rQsUuK"
      },
      "outputs": [],
      "source": [
        "import plotly.express as px\n",
        "from plotly.offline import plot\n",
        "\n",
        "# Use plotly.offline.plot to render in Google Colab\n",
        "plot(fig)\n"
      ]
    }
  ],
  "metadata": {
    "accelerator": "GPU",
    "colab": {
      "gpuType": "T4",
      "provenance": []
    },
    "kernelspec": {
      "display_name": "Python 3",
      "name": "python3"
    },
    "language_info": {
      "name": "python"
    }
  },
  "nbformat": 4,
  "nbformat_minor": 0
}